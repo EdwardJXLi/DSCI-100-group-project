{
 "cells": [
  {
   "cell_type": "markdown",
   "id": "5942d2fe-87e9-4378-bedd-fa3999f056bc",
   "metadata": {
    "tags": []
   },
   "source": [
    "# Predicting Heart Disease "
   ]
  },
  {
   "cell_type": "markdown",
   "id": "902326ce-7a4e-4090-8141-fd852f1d0969",
   "metadata": {},
   "source": [
    "Group Number: 65 | Group Members: Claire Rollins, Edward Li, Erika Kuwabara, Jeff Lu"
   ]
  },
  {
   "cell_type": "code",
   "execution_count": 83,
   "id": "8340b5e7-2f28-49ec-895e-955dea811669",
   "metadata": {},
   "outputs": [],
   "source": [
    "library(tidyverse)\n",
    "library(repr)\n",
    "library(tidymodels)\n",
    "library(ggplot2)\n",
    "require(reshape2)\n",
    "options(repr.matrix.max.rows = 6)"
   ]
  },
  {
   "cell_type": "markdown",
   "id": "e3f4fc4f-758e-4768-9856-3ba2ea459472",
   "metadata": {},
   "source": [
    "## Introduction "
   ]
  },
  {
   "cell_type": "markdown",
   "id": "7b3a7bef-f6b6-4b89-9d66-e2e9e99d19c3",
   "metadata": {},
   "source": [
    "Cardiovascular disease is the leading cause of death worldwide, with an estimated 17.9 million people dying of cardiovascular diseases in 2019. There are many factors that contribute to the cause of these diseases, including age, sex, blood pressure and more (World Health Organization, 2021). As heart disease affects so many people worldwide, it would be useful to have more tools to diagnose it. We will be exploring this using a KNN classification model and a Heart Disease dataset to predict whether or not someone has heart disease.   \n",
    "\n",
    "\n",
    "We will be working with data collected in 1988 by researchers in Hungary, California, Cleveland and Switzerland. They collected data on 76 attributes they believe contribute to heart disease. We will only be using 14 of them in our data. This data contains 920 rows and 15 columns. \n",
    "\n",
    "\n",
    "### Columns:\n",
    "\n",
    "|Id|Key|Description|\n",
    "|-|-|-|\n",
    "|1|age|in years|\n",
    "|2|sex|male or female|\n",
    "|3|cp|chest pain type (typical angina, atypical angina, non-anginal pain, or asymptomatic)|\n",
    "|4|trestbps|resting blood pressure in mmHg|\n",
    "|5|chol|serum cholesterol in mg/dl|\n",
    "|6|fbs|fasting blood sugar > 120 mg/dl, true or false|\n",
    "|7|restecg|resting electrocardiographic results (normal, ST-T wave abnormality, left ventricular hypertrophy)|\n",
    "|8|thalach|maximum heart rate|\n",
    "|9|exang|exercise induced angina, true or false|\n",
    "|10|oldpeak|ST depression induced by exercise|\n",
    "|11|slope|slope of peak exercise ST segment (upsloping, flat, downsloping)|\n",
    "|12|ca|number of major vessels coloured by fluorosopy|\n",
    "|13|thal|thalassemia, a blood disorder (normal, fixed defect, reversible defect)|\n",
    "|14|num|heart condition (true or false)|\n",
    "|15|location|Cleveland, Hungary, Switzerland, California|\n",
    "\n",
    "Our goal is to answer the question: Can you predict if a patient has heart disease from these collected attributes and if so, compare the accuracy of our model to human doctors to determine if it is reliable for medical use? "
   ]
  },
  {
   "cell_type": "markdown",
   "id": "05bd5294-5ab0-4c94-acd6-2f3592ccb983",
   "metadata": {},
   "source": [
    "## Preliminary exploratory data analysis"
   ]
  },
  {
   "cell_type": "code",
   "execution_count": 2,
   "id": "66027112-9178-40bf-a44e-c3357d5a18d2",
   "metadata": {},
   "outputs": [
    {
     "data": {
      "text/html": [
       "<table class=\"dataframe\">\n",
       "<caption>A data.frame: 303 × 15</caption>\n",
       "<thead>\n",
       "\t<tr><th scope=col>V1</th><th scope=col>V2</th><th scope=col>V3</th><th scope=col>V4</th><th scope=col>V5</th><th scope=col>V6</th><th scope=col>V7</th><th scope=col>V8</th><th scope=col>V9</th><th scope=col>V10</th><th scope=col>V11</th><th scope=col>V12</th><th scope=col>V13</th><th scope=col>V14</th><th scope=col>location</th></tr>\n",
       "\t<tr><th scope=col>&lt;dbl&gt;</th><th scope=col>&lt;dbl&gt;</th><th scope=col>&lt;dbl&gt;</th><th scope=col>&lt;dbl&gt;</th><th scope=col>&lt;dbl&gt;</th><th scope=col>&lt;dbl&gt;</th><th scope=col>&lt;dbl&gt;</th><th scope=col>&lt;dbl&gt;</th><th scope=col>&lt;dbl&gt;</th><th scope=col>&lt;dbl&gt;</th><th scope=col>&lt;dbl&gt;</th><th scope=col>&lt;dbl&gt;</th><th scope=col>&lt;dbl&gt;</th><th scope=col>&lt;int&gt;</th><th scope=col>&lt;chr&gt;</th></tr>\n",
       "</thead>\n",
       "<tbody>\n",
       "\t<tr><td>63</td><td>1</td><td>1</td><td>145</td><td>233</td><td>1</td><td>2</td><td>150</td><td>0</td><td>2.3</td><td>3</td><td>0</td><td>6</td><td>0</td><td>Cleveland</td></tr>\n",
       "\t<tr><td>67</td><td>1</td><td>4</td><td>160</td><td>286</td><td>0</td><td>2</td><td>108</td><td>1</td><td>1.5</td><td>2</td><td>3</td><td>3</td><td>2</td><td>Cleveland</td></tr>\n",
       "\t<tr><td>67</td><td>1</td><td>4</td><td>120</td><td>229</td><td>0</td><td>2</td><td>129</td><td>1</td><td>2.6</td><td>2</td><td>2</td><td>7</td><td>1</td><td>Cleveland</td></tr>\n",
       "\t<tr><td>⋮</td><td>⋮</td><td>⋮</td><td>⋮</td><td>⋮</td><td>⋮</td><td>⋮</td><td>⋮</td><td>⋮</td><td>⋮</td><td>⋮</td><td>⋮</td><td>⋮</td><td>⋮</td><td>⋮</td></tr>\n",
       "\t<tr><td>57</td><td>1</td><td>4</td><td>130</td><td>131</td><td>0</td><td>0</td><td>115</td><td>1</td><td>1.2</td><td>2</td><td> 1</td><td>7</td><td>3</td><td>Cleveland</td></tr>\n",
       "\t<tr><td>57</td><td>0</td><td>2</td><td>130</td><td>236</td><td>0</td><td>2</td><td>174</td><td>0</td><td>0.0</td><td>2</td><td> 1</td><td>3</td><td>1</td><td>Cleveland</td></tr>\n",
       "\t<tr><td>38</td><td>1</td><td>3</td><td>138</td><td>175</td><td>0</td><td>0</td><td>173</td><td>0</td><td>0.0</td><td>1</td><td>NA</td><td>3</td><td>0</td><td>Cleveland</td></tr>\n",
       "</tbody>\n",
       "</table>\n"
      ],
      "text/latex": [
       "A data.frame: 303 × 15\n",
       "\\begin{tabular}{lllllllllllllll}\n",
       " V1 & V2 & V3 & V4 & V5 & V6 & V7 & V8 & V9 & V10 & V11 & V12 & V13 & V14 & location\\\\\n",
       " <dbl> & <dbl> & <dbl> & <dbl> & <dbl> & <dbl> & <dbl> & <dbl> & <dbl> & <dbl> & <dbl> & <dbl> & <dbl> & <int> & <chr>\\\\\n",
       "\\hline\n",
       "\t 63 & 1 & 1 & 145 & 233 & 1 & 2 & 150 & 0 & 2.3 & 3 & 0 & 6 & 0 & Cleveland\\\\\n",
       "\t 67 & 1 & 4 & 160 & 286 & 0 & 2 & 108 & 1 & 1.5 & 2 & 3 & 3 & 2 & Cleveland\\\\\n",
       "\t 67 & 1 & 4 & 120 & 229 & 0 & 2 & 129 & 1 & 2.6 & 2 & 2 & 7 & 1 & Cleveland\\\\\n",
       "\t ⋮ & ⋮ & ⋮ & ⋮ & ⋮ & ⋮ & ⋮ & ⋮ & ⋮ & ⋮ & ⋮ & ⋮ & ⋮ & ⋮ & ⋮\\\\\n",
       "\t 57 & 1 & 4 & 130 & 131 & 0 & 0 & 115 & 1 & 1.2 & 2 &  1 & 7 & 3 & Cleveland\\\\\n",
       "\t 57 & 0 & 2 & 130 & 236 & 0 & 2 & 174 & 0 & 0.0 & 2 &  1 & 3 & 1 & Cleveland\\\\\n",
       "\t 38 & 1 & 3 & 138 & 175 & 0 & 0 & 173 & 0 & 0.0 & 1 & NA & 3 & 0 & Cleveland\\\\\n",
       "\\end{tabular}\n"
      ],
      "text/markdown": [
       "\n",
       "A data.frame: 303 × 15\n",
       "\n",
       "| V1 &lt;dbl&gt; | V2 &lt;dbl&gt; | V3 &lt;dbl&gt; | V4 &lt;dbl&gt; | V5 &lt;dbl&gt; | V6 &lt;dbl&gt; | V7 &lt;dbl&gt; | V8 &lt;dbl&gt; | V9 &lt;dbl&gt; | V10 &lt;dbl&gt; | V11 &lt;dbl&gt; | V12 &lt;dbl&gt; | V13 &lt;dbl&gt; | V14 &lt;int&gt; | location &lt;chr&gt; |\n",
       "|---|---|---|---|---|---|---|---|---|---|---|---|---|---|---|\n",
       "| 63 | 1 | 1 | 145 | 233 | 1 | 2 | 150 | 0 | 2.3 | 3 | 0 | 6 | 0 | Cleveland |\n",
       "| 67 | 1 | 4 | 160 | 286 | 0 | 2 | 108 | 1 | 1.5 | 2 | 3 | 3 | 2 | Cleveland |\n",
       "| 67 | 1 | 4 | 120 | 229 | 0 | 2 | 129 | 1 | 2.6 | 2 | 2 | 7 | 1 | Cleveland |\n",
       "| ⋮ | ⋮ | ⋮ | ⋮ | ⋮ | ⋮ | ⋮ | ⋮ | ⋮ | ⋮ | ⋮ | ⋮ | ⋮ | ⋮ | ⋮ |\n",
       "| 57 | 1 | 4 | 130 | 131 | 0 | 0 | 115 | 1 | 1.2 | 2 |  1 | 7 | 3 | Cleveland |\n",
       "| 57 | 0 | 2 | 130 | 236 | 0 | 2 | 174 | 0 | 0.0 | 2 |  1 | 3 | 1 | Cleveland |\n",
       "| 38 | 1 | 3 | 138 | 175 | 0 | 0 | 173 | 0 | 0.0 | 1 | NA | 3 | 0 | Cleveland |\n",
       "\n"
      ],
      "text/plain": [
       "    V1 V2 V3 V4  V5  V6 V7 V8  V9 V10 V11 V12 V13 V14 location \n",
       "1   63 1  1  145 233 1  2  150 0  2.3 3   0   6   0   Cleveland\n",
       "2   67 1  4  160 286 0  2  108 1  1.5 2   3   3   2   Cleveland\n",
       "3   67 1  4  120 229 0  2  129 1  2.6 2   2   7   1   Cleveland\n",
       "⋮   ⋮  ⋮  ⋮  ⋮   ⋮   ⋮  ⋮  ⋮   ⋮  ⋮   ⋮   ⋮   ⋮   ⋮   ⋮        \n",
       "301 57 1  4  130 131 0  0  115 1  1.2 2    1  7   3   Cleveland\n",
       "302 57 0  2  130 236 0  2  174 0  0.0 2    1  3   1   Cleveland\n",
       "303 38 1  3  138 175 0  0  173 0  0.0 1   NA  3   0   Cleveland"
      ]
     },
     "metadata": {},
     "output_type": "display_data"
    },
    {
     "data": {
      "text/html": [
       "<table class=\"dataframe\">\n",
       "<caption>A data.frame: 294 × 15</caption>\n",
       "<thead>\n",
       "\t<tr><th scope=col>V1</th><th scope=col>V2</th><th scope=col>V3</th><th scope=col>V4</th><th scope=col>V5</th><th scope=col>V6</th><th scope=col>V7</th><th scope=col>V8</th><th scope=col>V9</th><th scope=col>V10</th><th scope=col>V11</th><th scope=col>V12</th><th scope=col>V13</th><th scope=col>V14</th><th scope=col>location</th></tr>\n",
       "\t<tr><th scope=col>&lt;int&gt;</th><th scope=col>&lt;int&gt;</th><th scope=col>&lt;int&gt;</th><th scope=col>&lt;int&gt;</th><th scope=col>&lt;int&gt;</th><th scope=col>&lt;int&gt;</th><th scope=col>&lt;int&gt;</th><th scope=col>&lt;int&gt;</th><th scope=col>&lt;int&gt;</th><th scope=col>&lt;dbl&gt;</th><th scope=col>&lt;int&gt;</th><th scope=col>&lt;int&gt;</th><th scope=col>&lt;int&gt;</th><th scope=col>&lt;int&gt;</th><th scope=col>&lt;chr&gt;</th></tr>\n",
       "</thead>\n",
       "<tbody>\n",
       "\t<tr><td>28</td><td>1</td><td>2</td><td>130</td><td>132</td><td>0</td><td>2</td><td>185</td><td>0</td><td>0</td><td>NA</td><td>NA</td><td>NA</td><td>0</td><td>Hungary</td></tr>\n",
       "\t<tr><td>29</td><td>1</td><td>2</td><td>120</td><td>243</td><td>0</td><td>0</td><td>160</td><td>0</td><td>0</td><td>NA</td><td>NA</td><td>NA</td><td>0</td><td>Hungary</td></tr>\n",
       "\t<tr><td>29</td><td>1</td><td>2</td><td>140</td><td> NA</td><td>0</td><td>0</td><td>170</td><td>0</td><td>0</td><td>NA</td><td>NA</td><td>NA</td><td>0</td><td>Hungary</td></tr>\n",
       "\t<tr><td>⋮</td><td>⋮</td><td>⋮</td><td>⋮</td><td>⋮</td><td>⋮</td><td>⋮</td><td>⋮</td><td>⋮</td><td>⋮</td><td>⋮</td><td>⋮</td><td>⋮</td><td>⋮</td><td>⋮</td></tr>\n",
       "\t<tr><td>56</td><td>1</td><td>4</td><td>155</td><td>342</td><td>1</td><td>0</td><td>150</td><td>1</td><td>3</td><td>2</td><td>NA</td><td>NA</td><td>1</td><td>Hungary</td></tr>\n",
       "\t<tr><td>58</td><td>0</td><td>2</td><td>180</td><td>393</td><td>0</td><td>0</td><td>110</td><td>1</td><td>1</td><td>2</td><td>NA</td><td> 7</td><td>1</td><td>Hungary</td></tr>\n",
       "\t<tr><td>65</td><td>1</td><td>4</td><td>130</td><td>275</td><td>0</td><td>1</td><td>115</td><td>1</td><td>1</td><td>2</td><td>NA</td><td>NA</td><td>1</td><td>Hungary</td></tr>\n",
       "</tbody>\n",
       "</table>\n"
      ],
      "text/latex": [
       "A data.frame: 294 × 15\n",
       "\\begin{tabular}{lllllllllllllll}\n",
       " V1 & V2 & V3 & V4 & V5 & V6 & V7 & V8 & V9 & V10 & V11 & V12 & V13 & V14 & location\\\\\n",
       " <int> & <int> & <int> & <int> & <int> & <int> & <int> & <int> & <int> & <dbl> & <int> & <int> & <int> & <int> & <chr>\\\\\n",
       "\\hline\n",
       "\t 28 & 1 & 2 & 130 & 132 & 0 & 2 & 185 & 0 & 0 & NA & NA & NA & 0 & Hungary\\\\\n",
       "\t 29 & 1 & 2 & 120 & 243 & 0 & 0 & 160 & 0 & 0 & NA & NA & NA & 0 & Hungary\\\\\n",
       "\t 29 & 1 & 2 & 140 &  NA & 0 & 0 & 170 & 0 & 0 & NA & NA & NA & 0 & Hungary\\\\\n",
       "\t ⋮ & ⋮ & ⋮ & ⋮ & ⋮ & ⋮ & ⋮ & ⋮ & ⋮ & ⋮ & ⋮ & ⋮ & ⋮ & ⋮ & ⋮\\\\\n",
       "\t 56 & 1 & 4 & 155 & 342 & 1 & 0 & 150 & 1 & 3 & 2 & NA & NA & 1 & Hungary\\\\\n",
       "\t 58 & 0 & 2 & 180 & 393 & 0 & 0 & 110 & 1 & 1 & 2 & NA &  7 & 1 & Hungary\\\\\n",
       "\t 65 & 1 & 4 & 130 & 275 & 0 & 1 & 115 & 1 & 1 & 2 & NA & NA & 1 & Hungary\\\\\n",
       "\\end{tabular}\n"
      ],
      "text/markdown": [
       "\n",
       "A data.frame: 294 × 15\n",
       "\n",
       "| V1 &lt;int&gt; | V2 &lt;int&gt; | V3 &lt;int&gt; | V4 &lt;int&gt; | V5 &lt;int&gt; | V6 &lt;int&gt; | V7 &lt;int&gt; | V8 &lt;int&gt; | V9 &lt;int&gt; | V10 &lt;dbl&gt; | V11 &lt;int&gt; | V12 &lt;int&gt; | V13 &lt;int&gt; | V14 &lt;int&gt; | location &lt;chr&gt; |\n",
       "|---|---|---|---|---|---|---|---|---|---|---|---|---|---|---|\n",
       "| 28 | 1 | 2 | 130 | 132 | 0 | 2 | 185 | 0 | 0 | NA | NA | NA | 0 | Hungary |\n",
       "| 29 | 1 | 2 | 120 | 243 | 0 | 0 | 160 | 0 | 0 | NA | NA | NA | 0 | Hungary |\n",
       "| 29 | 1 | 2 | 140 |  NA | 0 | 0 | 170 | 0 | 0 | NA | NA | NA | 0 | Hungary |\n",
       "| ⋮ | ⋮ | ⋮ | ⋮ | ⋮ | ⋮ | ⋮ | ⋮ | ⋮ | ⋮ | ⋮ | ⋮ | ⋮ | ⋮ | ⋮ |\n",
       "| 56 | 1 | 4 | 155 | 342 | 1 | 0 | 150 | 1 | 3 | 2 | NA | NA | 1 | Hungary |\n",
       "| 58 | 0 | 2 | 180 | 393 | 0 | 0 | 110 | 1 | 1 | 2 | NA |  7 | 1 | Hungary |\n",
       "| 65 | 1 | 4 | 130 | 275 | 0 | 1 | 115 | 1 | 1 | 2 | NA | NA | 1 | Hungary |\n",
       "\n"
      ],
      "text/plain": [
       "    V1 V2 V3 V4  V5  V6 V7 V8  V9 V10 V11 V12 V13 V14 location\n",
       "1   28 1  2  130 132 0  2  185 0  0   NA  NA  NA  0   Hungary \n",
       "2   29 1  2  120 243 0  0  160 0  0   NA  NA  NA  0   Hungary \n",
       "3   29 1  2  140  NA 0  0  170 0  0   NA  NA  NA  0   Hungary \n",
       "⋮   ⋮  ⋮  ⋮  ⋮   ⋮   ⋮  ⋮  ⋮   ⋮  ⋮   ⋮   ⋮   ⋮   ⋮   ⋮       \n",
       "292 56 1  4  155 342 1  0  150 1  3   2   NA  NA  1   Hungary \n",
       "293 58 0  2  180 393 0  0  110 1  1   2   NA   7  1   Hungary \n",
       "294 65 1  4  130 275 0  1  115 1  1   2   NA  NA  1   Hungary "
      ]
     },
     "metadata": {},
     "output_type": "display_data"
    },
    {
     "data": {
      "text/html": [
       "<table class=\"dataframe\">\n",
       "<caption>A data.frame: 123 × 15</caption>\n",
       "<thead>\n",
       "\t<tr><th scope=col>V1</th><th scope=col>V2</th><th scope=col>V3</th><th scope=col>V4</th><th scope=col>V5</th><th scope=col>V6</th><th scope=col>V7</th><th scope=col>V8</th><th scope=col>V9</th><th scope=col>V10</th><th scope=col>V11</th><th scope=col>V12</th><th scope=col>V13</th><th scope=col>V14</th><th scope=col>location</th></tr>\n",
       "\t<tr><th scope=col>&lt;int&gt;</th><th scope=col>&lt;int&gt;</th><th scope=col>&lt;int&gt;</th><th scope=col>&lt;int&gt;</th><th scope=col>&lt;int&gt;</th><th scope=col>&lt;int&gt;</th><th scope=col>&lt;int&gt;</th><th scope=col>&lt;int&gt;</th><th scope=col>&lt;int&gt;</th><th scope=col>&lt;dbl&gt;</th><th scope=col>&lt;int&gt;</th><th scope=col>&lt;int&gt;</th><th scope=col>&lt;int&gt;</th><th scope=col>&lt;int&gt;</th><th scope=col>&lt;chr&gt;</th></tr>\n",
       "</thead>\n",
       "<tbody>\n",
       "\t<tr><td>32</td><td>1</td><td>1</td><td> 95</td><td>0</td><td>NA</td><td> 0</td><td>127</td><td>0</td><td>0.7</td><td> 1</td><td>NA</td><td>NA</td><td>1</td><td>Switzerland</td></tr>\n",
       "\t<tr><td>34</td><td>1</td><td>4</td><td>115</td><td>0</td><td>NA</td><td>NA</td><td>154</td><td>0</td><td>0.2</td><td> 1</td><td>NA</td><td>NA</td><td>1</td><td>Switzerland</td></tr>\n",
       "\t<tr><td>35</td><td>1</td><td>4</td><td> NA</td><td>0</td><td>NA</td><td> 0</td><td>130</td><td>1</td><td> NA</td><td>NA</td><td>NA</td><td> 7</td><td>3</td><td>Switzerland</td></tr>\n",
       "\t<tr><td>⋮</td><td>⋮</td><td>⋮</td><td>⋮</td><td>⋮</td><td>⋮</td><td>⋮</td><td>⋮</td><td>⋮</td><td>⋮</td><td>⋮</td><td>⋮</td><td>⋮</td><td>⋮</td><td>⋮</td></tr>\n",
       "\t<tr><td>72</td><td>1</td><td>3</td><td>160</td><td>0</td><td>NA</td><td>2</td><td>114</td><td>0</td><td>1.6</td><td>2</td><td> 2</td><td>NA</td><td>0</td><td>Switzerland</td></tr>\n",
       "\t<tr><td>73</td><td>0</td><td>3</td><td>160</td><td>0</td><td> 0</td><td>1</td><td>121</td><td>0</td><td>0.0</td><td>1</td><td>NA</td><td> 3</td><td>1</td><td>Switzerland</td></tr>\n",
       "\t<tr><td>74</td><td>1</td><td>2</td><td>145</td><td>0</td><td>NA</td><td>1</td><td>123</td><td>0</td><td>1.3</td><td>1</td><td>NA</td><td>NA</td><td>1</td><td>Switzerland</td></tr>\n",
       "</tbody>\n",
       "</table>\n"
      ],
      "text/latex": [
       "A data.frame: 123 × 15\n",
       "\\begin{tabular}{lllllllllllllll}\n",
       " V1 & V2 & V3 & V4 & V5 & V6 & V7 & V8 & V9 & V10 & V11 & V12 & V13 & V14 & location\\\\\n",
       " <int> & <int> & <int> & <int> & <int> & <int> & <int> & <int> & <int> & <dbl> & <int> & <int> & <int> & <int> & <chr>\\\\\n",
       "\\hline\n",
       "\t 32 & 1 & 1 &  95 & 0 & NA &  0 & 127 & 0 & 0.7 &  1 & NA & NA & 1 & Switzerland\\\\\n",
       "\t 34 & 1 & 4 & 115 & 0 & NA & NA & 154 & 0 & 0.2 &  1 & NA & NA & 1 & Switzerland\\\\\n",
       "\t 35 & 1 & 4 &  NA & 0 & NA &  0 & 130 & 1 &  NA & NA & NA &  7 & 3 & Switzerland\\\\\n",
       "\t ⋮ & ⋮ & ⋮ & ⋮ & ⋮ & ⋮ & ⋮ & ⋮ & ⋮ & ⋮ & ⋮ & ⋮ & ⋮ & ⋮ & ⋮\\\\\n",
       "\t 72 & 1 & 3 & 160 & 0 & NA & 2 & 114 & 0 & 1.6 & 2 &  2 & NA & 0 & Switzerland\\\\\n",
       "\t 73 & 0 & 3 & 160 & 0 &  0 & 1 & 121 & 0 & 0.0 & 1 & NA &  3 & 1 & Switzerland\\\\\n",
       "\t 74 & 1 & 2 & 145 & 0 & NA & 1 & 123 & 0 & 1.3 & 1 & NA & NA & 1 & Switzerland\\\\\n",
       "\\end{tabular}\n"
      ],
      "text/markdown": [
       "\n",
       "A data.frame: 123 × 15\n",
       "\n",
       "| V1 &lt;int&gt; | V2 &lt;int&gt; | V3 &lt;int&gt; | V4 &lt;int&gt; | V5 &lt;int&gt; | V6 &lt;int&gt; | V7 &lt;int&gt; | V8 &lt;int&gt; | V9 &lt;int&gt; | V10 &lt;dbl&gt; | V11 &lt;int&gt; | V12 &lt;int&gt; | V13 &lt;int&gt; | V14 &lt;int&gt; | location &lt;chr&gt; |\n",
       "|---|---|---|---|---|---|---|---|---|---|---|---|---|---|---|\n",
       "| 32 | 1 | 1 |  95 | 0 | NA |  0 | 127 | 0 | 0.7 |  1 | NA | NA | 1 | Switzerland |\n",
       "| 34 | 1 | 4 | 115 | 0 | NA | NA | 154 | 0 | 0.2 |  1 | NA | NA | 1 | Switzerland |\n",
       "| 35 | 1 | 4 |  NA | 0 | NA |  0 | 130 | 1 |  NA | NA | NA |  7 | 3 | Switzerland |\n",
       "| ⋮ | ⋮ | ⋮ | ⋮ | ⋮ | ⋮ | ⋮ | ⋮ | ⋮ | ⋮ | ⋮ | ⋮ | ⋮ | ⋮ | ⋮ |\n",
       "| 72 | 1 | 3 | 160 | 0 | NA | 2 | 114 | 0 | 1.6 | 2 |  2 | NA | 0 | Switzerland |\n",
       "| 73 | 0 | 3 | 160 | 0 |  0 | 1 | 121 | 0 | 0.0 | 1 | NA |  3 | 1 | Switzerland |\n",
       "| 74 | 1 | 2 | 145 | 0 | NA | 1 | 123 | 0 | 1.3 | 1 | NA | NA | 1 | Switzerland |\n",
       "\n"
      ],
      "text/plain": [
       "    V1 V2 V3 V4  V5 V6 V7 V8  V9 V10 V11 V12 V13 V14 location   \n",
       "1   32 1  1   95 0  NA  0 127 0  0.7  1  NA  NA  1   Switzerland\n",
       "2   34 1  4  115 0  NA NA 154 0  0.2  1  NA  NA  1   Switzerland\n",
       "3   35 1  4   NA 0  NA  0 130 1   NA NA  NA   7  3   Switzerland\n",
       "⋮   ⋮  ⋮  ⋮  ⋮   ⋮  ⋮  ⋮  ⋮   ⋮  ⋮   ⋮   ⋮   ⋮   ⋮   ⋮          \n",
       "121 72 1  3  160 0  NA 2  114 0  1.6 2    2  NA  0   Switzerland\n",
       "122 73 0  3  160 0   0 1  121 0  0.0 1   NA   3  1   Switzerland\n",
       "123 74 1  2  145 0  NA 1  123 0  1.3 1   NA  NA  1   Switzerland"
      ]
     },
     "metadata": {},
     "output_type": "display_data"
    },
    {
     "data": {
      "text/html": [
       "<table class=\"dataframe\">\n",
       "<caption>A data.frame: 200 × 15</caption>\n",
       "<thead>\n",
       "\t<tr><th scope=col>V1</th><th scope=col>V2</th><th scope=col>V3</th><th scope=col>V4</th><th scope=col>V5</th><th scope=col>V6</th><th scope=col>V7</th><th scope=col>V8</th><th scope=col>V9</th><th scope=col>V10</th><th scope=col>V11</th><th scope=col>V12</th><th scope=col>V13</th><th scope=col>V14</th><th scope=col>location</th></tr>\n",
       "\t<tr><th scope=col>&lt;int&gt;</th><th scope=col>&lt;int&gt;</th><th scope=col>&lt;int&gt;</th><th scope=col>&lt;int&gt;</th><th scope=col>&lt;int&gt;</th><th scope=col>&lt;int&gt;</th><th scope=col>&lt;int&gt;</th><th scope=col>&lt;int&gt;</th><th scope=col>&lt;int&gt;</th><th scope=col>&lt;dbl&gt;</th><th scope=col>&lt;int&gt;</th><th scope=col>&lt;int&gt;</th><th scope=col>&lt;int&gt;</th><th scope=col>&lt;int&gt;</th><th scope=col>&lt;chr&gt;</th></tr>\n",
       "</thead>\n",
       "<tbody>\n",
       "\t<tr><td>63</td><td>1</td><td>4</td><td>140</td><td>260</td><td>0</td><td>1</td><td>112</td><td>1</td><td>3.0</td><td> 2</td><td>NA</td><td>NA</td><td>2</td><td>California</td></tr>\n",
       "\t<tr><td>44</td><td>1</td><td>4</td><td>130</td><td>209</td><td>0</td><td>1</td><td>127</td><td>0</td><td>0.0</td><td>NA</td><td>NA</td><td>NA</td><td>0</td><td>California</td></tr>\n",
       "\t<tr><td>60</td><td>1</td><td>4</td><td>132</td><td>218</td><td>0</td><td>1</td><td>140</td><td>1</td><td>1.5</td><td> 3</td><td>NA</td><td>NA</td><td>2</td><td>California</td></tr>\n",
       "\t<tr><td>⋮</td><td>⋮</td><td>⋮</td><td>⋮</td><td>⋮</td><td>⋮</td><td>⋮</td><td>⋮</td><td>⋮</td><td>⋮</td><td>⋮</td><td>⋮</td><td>⋮</td><td>⋮</td><td>⋮</td></tr>\n",
       "\t<tr><td>55</td><td>1</td><td>4</td><td>122</td><td>223</td><td>1</td><td>1</td><td>100</td><td> 0</td><td> 0</td><td>NA</td><td>NA</td><td> 6</td><td>2</td><td>California</td></tr>\n",
       "\t<tr><td>58</td><td>1</td><td>4</td><td> NA</td><td>385</td><td>1</td><td>2</td><td> NA</td><td>NA</td><td>NA</td><td>NA</td><td>NA</td><td>NA</td><td>0</td><td>California</td></tr>\n",
       "\t<tr><td>62</td><td>1</td><td>2</td><td>120</td><td>254</td><td>0</td><td>2</td><td> 93</td><td> 1</td><td> 0</td><td>NA</td><td>NA</td><td>NA</td><td>1</td><td>California</td></tr>\n",
       "</tbody>\n",
       "</table>\n"
      ],
      "text/latex": [
       "A data.frame: 200 × 15\n",
       "\\begin{tabular}{lllllllllllllll}\n",
       " V1 & V2 & V3 & V4 & V5 & V6 & V7 & V8 & V9 & V10 & V11 & V12 & V13 & V14 & location\\\\\n",
       " <int> & <int> & <int> & <int> & <int> & <int> & <int> & <int> & <int> & <dbl> & <int> & <int> & <int> & <int> & <chr>\\\\\n",
       "\\hline\n",
       "\t 63 & 1 & 4 & 140 & 260 & 0 & 1 & 112 & 1 & 3.0 &  2 & NA & NA & 2 & California\\\\\n",
       "\t 44 & 1 & 4 & 130 & 209 & 0 & 1 & 127 & 0 & 0.0 & NA & NA & NA & 0 & California\\\\\n",
       "\t 60 & 1 & 4 & 132 & 218 & 0 & 1 & 140 & 1 & 1.5 &  3 & NA & NA & 2 & California\\\\\n",
       "\t ⋮ & ⋮ & ⋮ & ⋮ & ⋮ & ⋮ & ⋮ & ⋮ & ⋮ & ⋮ & ⋮ & ⋮ & ⋮ & ⋮ & ⋮\\\\\n",
       "\t 55 & 1 & 4 & 122 & 223 & 1 & 1 & 100 &  0 &  0 & NA & NA &  6 & 2 & California\\\\\n",
       "\t 58 & 1 & 4 &  NA & 385 & 1 & 2 &  NA & NA & NA & NA & NA & NA & 0 & California\\\\\n",
       "\t 62 & 1 & 2 & 120 & 254 & 0 & 2 &  93 &  1 &  0 & NA & NA & NA & 1 & California\\\\\n",
       "\\end{tabular}\n"
      ],
      "text/markdown": [
       "\n",
       "A data.frame: 200 × 15\n",
       "\n",
       "| V1 &lt;int&gt; | V2 &lt;int&gt; | V3 &lt;int&gt; | V4 &lt;int&gt; | V5 &lt;int&gt; | V6 &lt;int&gt; | V7 &lt;int&gt; | V8 &lt;int&gt; | V9 &lt;int&gt; | V10 &lt;dbl&gt; | V11 &lt;int&gt; | V12 &lt;int&gt; | V13 &lt;int&gt; | V14 &lt;int&gt; | location &lt;chr&gt; |\n",
       "|---|---|---|---|---|---|---|---|---|---|---|---|---|---|---|\n",
       "| 63 | 1 | 4 | 140 | 260 | 0 | 1 | 112 | 1 | 3.0 |  2 | NA | NA | 2 | California |\n",
       "| 44 | 1 | 4 | 130 | 209 | 0 | 1 | 127 | 0 | 0.0 | NA | NA | NA | 0 | California |\n",
       "| 60 | 1 | 4 | 132 | 218 | 0 | 1 | 140 | 1 | 1.5 |  3 | NA | NA | 2 | California |\n",
       "| ⋮ | ⋮ | ⋮ | ⋮ | ⋮ | ⋮ | ⋮ | ⋮ | ⋮ | ⋮ | ⋮ | ⋮ | ⋮ | ⋮ | ⋮ |\n",
       "| 55 | 1 | 4 | 122 | 223 | 1 | 1 | 100 |  0 |  0 | NA | NA |  6 | 2 | California |\n",
       "| 58 | 1 | 4 |  NA | 385 | 1 | 2 |  NA | NA | NA | NA | NA | NA | 0 | California |\n",
       "| 62 | 1 | 2 | 120 | 254 | 0 | 2 |  93 |  1 |  0 | NA | NA | NA | 1 | California |\n",
       "\n"
      ],
      "text/plain": [
       "    V1 V2 V3 V4  V5  V6 V7 V8  V9 V10 V11 V12 V13 V14 location  \n",
       "1   63 1  4  140 260 0  1  112 1  3.0  2  NA  NA  2   California\n",
       "2   44 1  4  130 209 0  1  127 0  0.0 NA  NA  NA  0   California\n",
       "3   60 1  4  132 218 0  1  140 1  1.5  3  NA  NA  2   California\n",
       "⋮   ⋮  ⋮  ⋮  ⋮   ⋮   ⋮  ⋮  ⋮   ⋮  ⋮   ⋮   ⋮   ⋮   ⋮   ⋮         \n",
       "198 55 1  4  122 223 1  1  100  0  0  NA  NA   6  2   California\n",
       "199 58 1  4   NA 385 1  2   NA NA NA  NA  NA  NA  0   California\n",
       "200 62 1  2  120 254 0  2   93  1  0  NA  NA  NA  1   California"
      ]
     },
     "metadata": {},
     "output_type": "display_data"
    }
   ],
   "source": [
    "# Load In Each Dataset\n",
    "cleveland_data <- read.csv(\"http://archive.ics.uci.edu/ml/machine-learning-databases/heart-disease/processed.cleveland.data\", header = FALSE, na.strings = \"?\")\n",
    "cleveland_data <- mutate(cleveland_data, location = \"Cleveland\")\n",
    "cleveland_data\n",
    "\n",
    "hungarian_data <- read.csv(\"http://archive.ics.uci.edu/ml/machine-learning-databases/heart-disease/processed.hungarian.data\", header = FALSE, na.strings = \"?\")\n",
    "hungarian_data <- mutate(hungarian_data, location = \"Hungary\")\n",
    "hungarian_data\n",
    "\n",
    "switzerland_data <- read.csv(\"http://archive.ics.uci.edu/ml/machine-learning-databases/heart-disease/processed.switzerland.data\", header = FALSE, na.strings = \"?\")\n",
    "switzerland_data <- mutate(switzerland_data, location = \"Switzerland\")\n",
    "switzerland_data\n",
    "\n",
    "va_data <- read.csv(\"http://archive.ics.uci.edu/ml/machine-learning-databases/heart-disease/processed.va.data\", header = FALSE, na.strings = \"?\")\n",
    "va_data <- mutate(va_data, location = \"California\")\n",
    "va_data"
   ]
  },
  {
   "cell_type": "code",
   "execution_count": 3,
   "id": "43adfb25-4d3b-4b39-86ee-b9577957fbf1",
   "metadata": {},
   "outputs": [
    {
     "data": {
      "text/html": [
       "<table class=\"dataframe\">\n",
       "<caption>A data.frame: 920 × 15</caption>\n",
       "<thead>\n",
       "\t<tr><th scope=col>V1</th><th scope=col>V2</th><th scope=col>V3</th><th scope=col>V4</th><th scope=col>V5</th><th scope=col>V6</th><th scope=col>V7</th><th scope=col>V8</th><th scope=col>V9</th><th scope=col>V10</th><th scope=col>V11</th><th scope=col>V12</th><th scope=col>V13</th><th scope=col>V14</th><th scope=col>location</th></tr>\n",
       "\t<tr><th scope=col>&lt;dbl&gt;</th><th scope=col>&lt;dbl&gt;</th><th scope=col>&lt;dbl&gt;</th><th scope=col>&lt;dbl&gt;</th><th scope=col>&lt;dbl&gt;</th><th scope=col>&lt;dbl&gt;</th><th scope=col>&lt;dbl&gt;</th><th scope=col>&lt;dbl&gt;</th><th scope=col>&lt;dbl&gt;</th><th scope=col>&lt;dbl&gt;</th><th scope=col>&lt;dbl&gt;</th><th scope=col>&lt;dbl&gt;</th><th scope=col>&lt;dbl&gt;</th><th scope=col>&lt;int&gt;</th><th scope=col>&lt;chr&gt;</th></tr>\n",
       "</thead>\n",
       "<tbody>\n",
       "\t<tr><td>63</td><td>1</td><td>1</td><td>145</td><td>233</td><td>1</td><td>2</td><td>150</td><td>0</td><td>2.3</td><td>3</td><td>0</td><td>6</td><td>0</td><td>Cleveland</td></tr>\n",
       "\t<tr><td>67</td><td>1</td><td>4</td><td>160</td><td>286</td><td>0</td><td>2</td><td>108</td><td>1</td><td>1.5</td><td>2</td><td>3</td><td>3</td><td>2</td><td>Cleveland</td></tr>\n",
       "\t<tr><td>67</td><td>1</td><td>4</td><td>120</td><td>229</td><td>0</td><td>2</td><td>129</td><td>1</td><td>2.6</td><td>2</td><td>2</td><td>7</td><td>1</td><td>Cleveland</td></tr>\n",
       "\t<tr><td>⋮</td><td>⋮</td><td>⋮</td><td>⋮</td><td>⋮</td><td>⋮</td><td>⋮</td><td>⋮</td><td>⋮</td><td>⋮</td><td>⋮</td><td>⋮</td><td>⋮</td><td>⋮</td><td>⋮</td></tr>\n",
       "\t<tr><td>55</td><td>1</td><td>4</td><td>122</td><td>223</td><td>1</td><td>1</td><td>100</td><td> 0</td><td> 0</td><td>NA</td><td>NA</td><td> 6</td><td>2</td><td>California</td></tr>\n",
       "\t<tr><td>58</td><td>1</td><td>4</td><td> NA</td><td>385</td><td>1</td><td>2</td><td> NA</td><td>NA</td><td>NA</td><td>NA</td><td>NA</td><td>NA</td><td>0</td><td>California</td></tr>\n",
       "\t<tr><td>62</td><td>1</td><td>2</td><td>120</td><td>254</td><td>0</td><td>2</td><td> 93</td><td> 1</td><td> 0</td><td>NA</td><td>NA</td><td>NA</td><td>1</td><td>California</td></tr>\n",
       "</tbody>\n",
       "</table>\n"
      ],
      "text/latex": [
       "A data.frame: 920 × 15\n",
       "\\begin{tabular}{lllllllllllllll}\n",
       " V1 & V2 & V3 & V4 & V5 & V6 & V7 & V8 & V9 & V10 & V11 & V12 & V13 & V14 & location\\\\\n",
       " <dbl> & <dbl> & <dbl> & <dbl> & <dbl> & <dbl> & <dbl> & <dbl> & <dbl> & <dbl> & <dbl> & <dbl> & <dbl> & <int> & <chr>\\\\\n",
       "\\hline\n",
       "\t 63 & 1 & 1 & 145 & 233 & 1 & 2 & 150 & 0 & 2.3 & 3 & 0 & 6 & 0 & Cleveland\\\\\n",
       "\t 67 & 1 & 4 & 160 & 286 & 0 & 2 & 108 & 1 & 1.5 & 2 & 3 & 3 & 2 & Cleveland\\\\\n",
       "\t 67 & 1 & 4 & 120 & 229 & 0 & 2 & 129 & 1 & 2.6 & 2 & 2 & 7 & 1 & Cleveland\\\\\n",
       "\t ⋮ & ⋮ & ⋮ & ⋮ & ⋮ & ⋮ & ⋮ & ⋮ & ⋮ & ⋮ & ⋮ & ⋮ & ⋮ & ⋮ & ⋮\\\\\n",
       "\t 55 & 1 & 4 & 122 & 223 & 1 & 1 & 100 &  0 &  0 & NA & NA &  6 & 2 & California\\\\\n",
       "\t 58 & 1 & 4 &  NA & 385 & 1 & 2 &  NA & NA & NA & NA & NA & NA & 0 & California\\\\\n",
       "\t 62 & 1 & 2 & 120 & 254 & 0 & 2 &  93 &  1 &  0 & NA & NA & NA & 1 & California\\\\\n",
       "\\end{tabular}\n"
      ],
      "text/markdown": [
       "\n",
       "A data.frame: 920 × 15\n",
       "\n",
       "| V1 &lt;dbl&gt; | V2 &lt;dbl&gt; | V3 &lt;dbl&gt; | V4 &lt;dbl&gt; | V5 &lt;dbl&gt; | V6 &lt;dbl&gt; | V7 &lt;dbl&gt; | V8 &lt;dbl&gt; | V9 &lt;dbl&gt; | V10 &lt;dbl&gt; | V11 &lt;dbl&gt; | V12 &lt;dbl&gt; | V13 &lt;dbl&gt; | V14 &lt;int&gt; | location &lt;chr&gt; |\n",
       "|---|---|---|---|---|---|---|---|---|---|---|---|---|---|---|\n",
       "| 63 | 1 | 1 | 145 | 233 | 1 | 2 | 150 | 0 | 2.3 | 3 | 0 | 6 | 0 | Cleveland |\n",
       "| 67 | 1 | 4 | 160 | 286 | 0 | 2 | 108 | 1 | 1.5 | 2 | 3 | 3 | 2 | Cleveland |\n",
       "| 67 | 1 | 4 | 120 | 229 | 0 | 2 | 129 | 1 | 2.6 | 2 | 2 | 7 | 1 | Cleveland |\n",
       "| ⋮ | ⋮ | ⋮ | ⋮ | ⋮ | ⋮ | ⋮ | ⋮ | ⋮ | ⋮ | ⋮ | ⋮ | ⋮ | ⋮ | ⋮ |\n",
       "| 55 | 1 | 4 | 122 | 223 | 1 | 1 | 100 |  0 |  0 | NA | NA |  6 | 2 | California |\n",
       "| 58 | 1 | 4 |  NA | 385 | 1 | 2 |  NA | NA | NA | NA | NA | NA | 0 | California |\n",
       "| 62 | 1 | 2 | 120 | 254 | 0 | 2 |  93 |  1 |  0 | NA | NA | NA | 1 | California |\n",
       "\n"
      ],
      "text/plain": [
       "    V1 V2 V3 V4  V5  V6 V7 V8  V9 V10 V11 V12 V13 V14 location  \n",
       "1   63 1  1  145 233 1  2  150 0  2.3 3   0   6   0   Cleveland \n",
       "2   67 1  4  160 286 0  2  108 1  1.5 2   3   3   2   Cleveland \n",
       "3   67 1  4  120 229 0  2  129 1  2.6 2   2   7   1   Cleveland \n",
       "⋮   ⋮  ⋮  ⋮  ⋮   ⋮   ⋮  ⋮  ⋮   ⋮  ⋮   ⋮   ⋮   ⋮   ⋮   ⋮         \n",
       "918 55 1  4  122 223 1  1  100  0  0  NA  NA   6  2   California\n",
       "919 58 1  4   NA 385 1  2   NA NA NA  NA  NA  NA  0   California\n",
       "920 62 1  2  120 254 0  2   93  1  0  NA  NA  NA  1   California"
      ]
     },
     "metadata": {},
     "output_type": "display_data"
    }
   ],
   "source": [
    "# Merge Datasets\n",
    "raw_data <- rbind(cleveland_data, hungarian_data, switzerland_data, va_data)\n",
    "raw_data"
   ]
  },
  {
   "cell_type": "markdown",
   "id": "715f7741-03dd-4146-93cd-c5d9c466a073",
   "metadata": {},
   "source": [
    "While wrangling, we have renamed both columns and factors to a human-legible form. The code to do so is as follows:"
   ]
  },
  {
   "cell_type": "code",
   "execution_count": 4,
   "id": "7c1731fb-0e40-4e4e-9518-cde023cd7340",
   "metadata": {},
   "outputs": [
    {
     "data": {
      "text/html": [
       "<table class=\"dataframe\">\n",
       "<caption>A data.frame: 920 × 15</caption>\n",
       "<thead>\n",
       "\t<tr><th scope=col>age</th><th scope=col>sex</th><th scope=col>cp</th><th scope=col>trestbps</th><th scope=col>chol</th><th scope=col>fbs</th><th scope=col>restecg</th><th scope=col>thalach</th><th scope=col>exang</th><th scope=col>oldpeak</th><th scope=col>slope</th><th scope=col>ca</th><th scope=col>thal</th><th scope=col>num</th><th scope=col>location</th></tr>\n",
       "\t<tr><th scope=col>&lt;dbl&gt;</th><th scope=col>&lt;fct&gt;</th><th scope=col>&lt;fct&gt;</th><th scope=col>&lt;dbl&gt;</th><th scope=col>&lt;dbl&gt;</th><th scope=col>&lt;lgl&gt;</th><th scope=col>&lt;fct&gt;</th><th scope=col>&lt;dbl&gt;</th><th scope=col>&lt;lgl&gt;</th><th scope=col>&lt;dbl&gt;</th><th scope=col>&lt;fct&gt;</th><th scope=col>&lt;fct&gt;</th><th scope=col>&lt;fct&gt;</th><th scope=col>&lt;fct&gt;</th><th scope=col>&lt;chr&gt;</th></tr>\n",
       "</thead>\n",
       "<tbody>\n",
       "\t<tr><td>63</td><td>male</td><td>typical angina</td><td>145</td><td>233</td><td> TRUE</td><td>hypertrophy</td><td>150</td><td>FALSE</td><td>2.3</td><td>downsloping</td><td>0</td><td>fixed defect     </td><td>FALSE</td><td>Cleveland</td></tr>\n",
       "\t<tr><td>67</td><td>male</td><td>asymptomatic  </td><td>160</td><td>286</td><td>FALSE</td><td>hypertrophy</td><td>108</td><td> TRUE</td><td>1.5</td><td>flat       </td><td>3</td><td>normal           </td><td>TRUE </td><td>Cleveland</td></tr>\n",
       "\t<tr><td>67</td><td>male</td><td>asymptomatic  </td><td>120</td><td>229</td><td>FALSE</td><td>hypertrophy</td><td>129</td><td> TRUE</td><td>2.6</td><td>flat       </td><td>2</td><td>reversable defect</td><td>TRUE </td><td>Cleveland</td></tr>\n",
       "\t<tr><td>⋮</td><td>⋮</td><td>⋮</td><td>⋮</td><td>⋮</td><td>⋮</td><td>⋮</td><td>⋮</td><td>⋮</td><td>⋮</td><td>⋮</td><td>⋮</td><td>⋮</td><td>⋮</td><td>⋮</td></tr>\n",
       "\t<tr><td>55</td><td>male</td><td>asymptomatic   </td><td>122</td><td>223</td><td> TRUE</td><td>ST-T wave abnormality</td><td>100</td><td>FALSE</td><td> 0</td><td>NA</td><td>NA</td><td>fixed defect</td><td>TRUE </td><td>California</td></tr>\n",
       "\t<tr><td>58</td><td>male</td><td>asymptomatic   </td><td> NA</td><td>385</td><td> TRUE</td><td>hypertrophy          </td><td> NA</td><td>   NA</td><td>NA</td><td>NA</td><td>NA</td><td>NA          </td><td>FALSE</td><td>California</td></tr>\n",
       "\t<tr><td>62</td><td>male</td><td>atypical angina</td><td>120</td><td>254</td><td>FALSE</td><td>hypertrophy          </td><td> 93</td><td> TRUE</td><td> 0</td><td>NA</td><td>NA</td><td>NA          </td><td>TRUE </td><td>California</td></tr>\n",
       "</tbody>\n",
       "</table>\n"
      ],
      "text/latex": [
       "A data.frame: 920 × 15\n",
       "\\begin{tabular}{lllllllllllllll}\n",
       " age & sex & cp & trestbps & chol & fbs & restecg & thalach & exang & oldpeak & slope & ca & thal & num & location\\\\\n",
       " <dbl> & <fct> & <fct> & <dbl> & <dbl> & <lgl> & <fct> & <dbl> & <lgl> & <dbl> & <fct> & <fct> & <fct> & <fct> & <chr>\\\\\n",
       "\\hline\n",
       "\t 63 & male & typical angina & 145 & 233 &  TRUE & hypertrophy & 150 & FALSE & 2.3 & downsloping & 0 & fixed defect      & FALSE & Cleveland\\\\\n",
       "\t 67 & male & asymptomatic   & 160 & 286 & FALSE & hypertrophy & 108 &  TRUE & 1.5 & flat        & 3 & normal            & TRUE  & Cleveland\\\\\n",
       "\t 67 & male & asymptomatic   & 120 & 229 & FALSE & hypertrophy & 129 &  TRUE & 2.6 & flat        & 2 & reversable defect & TRUE  & Cleveland\\\\\n",
       "\t ⋮ & ⋮ & ⋮ & ⋮ & ⋮ & ⋮ & ⋮ & ⋮ & ⋮ & ⋮ & ⋮ & ⋮ & ⋮ & ⋮ & ⋮\\\\\n",
       "\t 55 & male & asymptomatic    & 122 & 223 &  TRUE & ST-T wave abnormality & 100 & FALSE &  0 & NA & NA & fixed defect & TRUE  & California\\\\\n",
       "\t 58 & male & asymptomatic    &  NA & 385 &  TRUE & hypertrophy           &  NA &    NA & NA & NA & NA & NA           & FALSE & California\\\\\n",
       "\t 62 & male & atypical angina & 120 & 254 & FALSE & hypertrophy           &  93 &  TRUE &  0 & NA & NA & NA           & TRUE  & California\\\\\n",
       "\\end{tabular}\n"
      ],
      "text/markdown": [
       "\n",
       "A data.frame: 920 × 15\n",
       "\n",
       "| age &lt;dbl&gt; | sex &lt;fct&gt; | cp &lt;fct&gt; | trestbps &lt;dbl&gt; | chol &lt;dbl&gt; | fbs &lt;lgl&gt; | restecg &lt;fct&gt; | thalach &lt;dbl&gt; | exang &lt;lgl&gt; | oldpeak &lt;dbl&gt; | slope &lt;fct&gt; | ca &lt;fct&gt; | thal &lt;fct&gt; | num &lt;fct&gt; | location &lt;chr&gt; |\n",
       "|---|---|---|---|---|---|---|---|---|---|---|---|---|---|---|\n",
       "| 63 | male | typical angina | 145 | 233 |  TRUE | hypertrophy | 150 | FALSE | 2.3 | downsloping | 0 | fixed defect      | FALSE | Cleveland |\n",
       "| 67 | male | asymptomatic   | 160 | 286 | FALSE | hypertrophy | 108 |  TRUE | 1.5 | flat        | 3 | normal            | TRUE  | Cleveland |\n",
       "| 67 | male | asymptomatic   | 120 | 229 | FALSE | hypertrophy | 129 |  TRUE | 2.6 | flat        | 2 | reversable defect | TRUE  | Cleveland |\n",
       "| ⋮ | ⋮ | ⋮ | ⋮ | ⋮ | ⋮ | ⋮ | ⋮ | ⋮ | ⋮ | ⋮ | ⋮ | ⋮ | ⋮ | ⋮ |\n",
       "| 55 | male | asymptomatic    | 122 | 223 |  TRUE | ST-T wave abnormality | 100 | FALSE |  0 | NA | NA | fixed defect | TRUE  | California |\n",
       "| 58 | male | asymptomatic    |  NA | 385 |  TRUE | hypertrophy           |  NA |    NA | NA | NA | NA | NA           | FALSE | California |\n",
       "| 62 | male | atypical angina | 120 | 254 | FALSE | hypertrophy           |  93 |  TRUE |  0 | NA | NA | NA           | TRUE  | California |\n",
       "\n"
      ],
      "text/plain": [
       "    age sex  cp              trestbps chol fbs   restecg               thalach\n",
       "1   63  male typical angina  145      233   TRUE hypertrophy           150    \n",
       "2   67  male asymptomatic    160      286  FALSE hypertrophy           108    \n",
       "3   67  male asymptomatic    120      229  FALSE hypertrophy           129    \n",
       "⋮   ⋮   ⋮    ⋮               ⋮        ⋮    ⋮     ⋮                     ⋮      \n",
       "918 55  male asymptomatic    122      223   TRUE ST-T wave abnormality 100    \n",
       "919 58  male asymptomatic     NA      385   TRUE hypertrophy            NA    \n",
       "920 62  male atypical angina 120      254  FALSE hypertrophy            93    \n",
       "    exang oldpeak slope       ca thal              num   location  \n",
       "1   FALSE 2.3     downsloping 0  fixed defect      FALSE Cleveland \n",
       "2    TRUE 1.5     flat        3  normal            TRUE  Cleveland \n",
       "3    TRUE 2.6     flat        2  reversable defect TRUE  Cleveland \n",
       "⋮   ⋮     ⋮       ⋮           ⋮  ⋮                 ⋮     ⋮         \n",
       "918 FALSE  0      NA          NA fixed defect      TRUE  California\n",
       "919    NA NA      NA          NA NA                FALSE California\n",
       "920  TRUE  0      NA          NA NA                TRUE  California"
      ]
     },
     "metadata": {},
     "output_type": "display_data"
    }
   ],
   "source": [
    "# Modify Column Names\n",
    "names(raw_data) <- c(\"age\", \"sex\", \"cp\", \"trestbps\", \"chol\", \"fbs\", \"restecg\", \"thalach\", \"exang\", \"oldpeak\", \"slope\", \"ca\", \"thal\", \"num\", \"location\")\n",
    "\n",
    "# Interpret columns as factors\n",
    "# Mappings acquired from https://archive.ics.uci.edu/ml/datasets/Heart+Disease\n",
    "heart_data <- raw_data |> mutate(\n",
    "    sex = as.factor(sex),\n",
    "    cp = as.factor(cp),\n",
    "    fbs = as.logical(fbs),\n",
    "    restecg = as.factor(restecg),\n",
    "    exang = as.logical(exang),\n",
    "    slope = as.factor(slope),\n",
    "    ca = as.factor(ca),\n",
    "    thal = as.factor(thal),\n",
    "    num = as.factor(num > 0)\n",
    ")\n",
    "\n",
    "# Solution found online to convert numerial factors to string factors\n",
    "# https://stackoverflow.com/questions/13613913/how-do-i-convert-certain-columns-of-a-data-frame-to-become-factors\n",
    "levels(heart_data$sex)<- c(\"female\", \"male\")\n",
    "levels(heart_data$cp) <- c(\"typical angina\",\"atypical angina\", \"non-anginal pain\", \"asymptomatic\")\n",
    "levels(heart_data$restecg) <- c(\"normal\",\"ST-T wave abnormality\",\"hypertrophy\")\n",
    "levels(heart_data$slope) <- c(\"upsloping\",\"flat\",\"downsloping\")\n",
    "levels(heart_data$thal) <- c(\"normal\", \"fixed defect\",\"reversable defect\")\n",
    "heart_data"
   ]
  },
  {
   "cell_type": "markdown",
   "id": "3812a502-30b7-4e86-a970-4ab8a94edf46",
   "metadata": {},
   "source": [
    "Since we are dealing with a classification problem, we remove the non-numerical predictor variables below. We then create\n",
    "the training and testing sets with a 75/25 split."
   ]
  },
  {
   "cell_type": "code",
   "execution_count": 65,
   "id": "70620c60-97ce-4be4-b412-22f8dae2550e",
   "metadata": {},
   "outputs": [
    {
     "data": {
      "text/html": [
       "<table class=\"dataframe\">\n",
       "<caption>A data.frame: 689 × 6</caption>\n",
       "<thead>\n",
       "\t<tr><th></th><th scope=col>num</th><th scope=col>age</th><th scope=col>trestbps</th><th scope=col>chol</th><th scope=col>thalach</th><th scope=col>oldpeak</th></tr>\n",
       "\t<tr><th></th><th scope=col>&lt;fct&gt;</th><th scope=col>&lt;dbl&gt;</th><th scope=col>&lt;dbl&gt;</th><th scope=col>&lt;dbl&gt;</th><th scope=col>&lt;dbl&gt;</th><th scope=col>&lt;dbl&gt;</th></tr>\n",
       "</thead>\n",
       "<tbody>\n",
       "\t<tr><th scope=row>4</th><td>FALSE</td><td>37</td><td>130</td><td>250</td><td>187</td><td>3.5</td></tr>\n",
       "\t<tr><th scope=row>5</th><td>FALSE</td><td>41</td><td>130</td><td>204</td><td>172</td><td>1.4</td></tr>\n",
       "\t<tr><th scope=row>6</th><td>FALSE</td><td>56</td><td>120</td><td>236</td><td>178</td><td>0.8</td></tr>\n",
       "\t<tr><th scope=row>⋮</th><td>⋮</td><td>⋮</td><td>⋮</td><td>⋮</td><td>⋮</td><td>⋮</td></tr>\n",
       "\t<tr><th scope=row>916</th><td>TRUE</td><td>54</td><td>127</td><td>333</td><td>154</td><td>0</td></tr>\n",
       "\t<tr><th scope=row>918</th><td>TRUE</td><td>55</td><td>122</td><td>223</td><td>100</td><td>0</td></tr>\n",
       "\t<tr><th scope=row>920</th><td>TRUE</td><td>62</td><td>120</td><td>254</td><td> 93</td><td>0</td></tr>\n",
       "</tbody>\n",
       "</table>\n"
      ],
      "text/latex": [
       "A data.frame: 689 × 6\n",
       "\\begin{tabular}{r|llllll}\n",
       "  & num & age & trestbps & chol & thalach & oldpeak\\\\\n",
       "  & <fct> & <dbl> & <dbl> & <dbl> & <dbl> & <dbl>\\\\\n",
       "\\hline\n",
       "\t4 & FALSE & 37 & 130 & 250 & 187 & 3.5\\\\\n",
       "\t5 & FALSE & 41 & 130 & 204 & 172 & 1.4\\\\\n",
       "\t6 & FALSE & 56 & 120 & 236 & 178 & 0.8\\\\\n",
       "\t⋮ & ⋮ & ⋮ & ⋮ & ⋮ & ⋮ & ⋮\\\\\n",
       "\t916 & TRUE & 54 & 127 & 333 & 154 & 0\\\\\n",
       "\t918 & TRUE & 55 & 122 & 223 & 100 & 0\\\\\n",
       "\t920 & TRUE & 62 & 120 & 254 &  93 & 0\\\\\n",
       "\\end{tabular}\n"
      ],
      "text/markdown": [
       "\n",
       "A data.frame: 689 × 6\n",
       "\n",
       "| <!--/--> | num &lt;fct&gt; | age &lt;dbl&gt; | trestbps &lt;dbl&gt; | chol &lt;dbl&gt; | thalach &lt;dbl&gt; | oldpeak &lt;dbl&gt; |\n",
       "|---|---|---|---|---|---|---|\n",
       "| 4 | FALSE | 37 | 130 | 250 | 187 | 3.5 |\n",
       "| 5 | FALSE | 41 | 130 | 204 | 172 | 1.4 |\n",
       "| 6 | FALSE | 56 | 120 | 236 | 178 | 0.8 |\n",
       "| ⋮ | ⋮ | ⋮ | ⋮ | ⋮ | ⋮ | ⋮ |\n",
       "| 916 | TRUE | 54 | 127 | 333 | 154 | 0 |\n",
       "| 918 | TRUE | 55 | 122 | 223 | 100 | 0 |\n",
       "| 920 | TRUE | 62 | 120 | 254 |  93 | 0 |\n",
       "\n"
      ],
      "text/plain": [
       "    num   age trestbps chol thalach oldpeak\n",
       "4   FALSE 37  130      250  187     3.5    \n",
       "5   FALSE 41  130      204  172     1.4    \n",
       "6   FALSE 56  120      236  178     0.8    \n",
       "⋮   ⋮     ⋮   ⋮        ⋮    ⋮       ⋮      \n",
       "916 TRUE  54  127      333  154     0      \n",
       "918 TRUE  55  122      223  100     0      \n",
       "920 TRUE  62  120      254   93     0      "
      ]
     },
     "metadata": {},
     "output_type": "display_data"
    }
   ],
   "source": [
    "set.seed(1000)\n",
    "#Select only predictor variables\n",
    "heart_num <- heart_data |>\n",
    "    select(num, age, trestbps, chol, thalach, oldpeak)\n",
    "#Split into 75% training and 25% testing\n",
    "heart_split <- initial_split(heart_num, prop=0.75, strata = num)\n",
    "heart_training <- training(heart_split)\n",
    "heart_testing <- testing(heart_split) \n",
    "heart_training"
   ]
  },
  {
   "cell_type": "markdown",
   "id": "c678d8c0-fd9b-4130-a906-c61abfe5aeab",
   "metadata": {},
   "source": [
    "Below, we find that there are 66 rows with NA, which we remove from the training set. We also remove one data point with a resting blood pressure of 0, since it does not make sense. We note that the two classes are more or less balanced. We then find the average values for each variable for each class, and see that heart disease patients appear to be older, have lower cholesterol, higher maximum heart rate, and higher ST depression. "
   ]
  },
  {
   "cell_type": "code",
   "execution_count": 74,
   "id": "df49d245-3b69-4e07-9409-02ae70773c5d",
   "metadata": {},
   "outputs": [
    {
     "data": {
      "text/html": [
       "66"
      ],
      "text/latex": [
       "66"
      ],
      "text/markdown": [
       "66"
      ],
      "text/plain": [
       "[1] 66"
      ]
     },
     "metadata": {},
     "output_type": "display_data"
    },
    {
     "data": {
      "text/html": [
       "<table class=\"dataframe\">\n",
       "<caption>A data.frame: 622 × 6</caption>\n",
       "<thead>\n",
       "\t<tr><th scope=col>num</th><th scope=col>age</th><th scope=col>trestbps</th><th scope=col>chol</th><th scope=col>thalach</th><th scope=col>oldpeak</th></tr>\n",
       "\t<tr><th scope=col>&lt;fct&gt;</th><th scope=col>&lt;dbl&gt;</th><th scope=col>&lt;dbl&gt;</th><th scope=col>&lt;dbl&gt;</th><th scope=col>&lt;dbl&gt;</th><th scope=col>&lt;dbl&gt;</th></tr>\n",
       "</thead>\n",
       "<tbody>\n",
       "\t<tr><td>FALSE</td><td>37</td><td>130</td><td>250</td><td>187</td><td>3.5</td></tr>\n",
       "\t<tr><td>FALSE</td><td>41</td><td>130</td><td>204</td><td>172</td><td>1.4</td></tr>\n",
       "\t<tr><td>FALSE</td><td>56</td><td>120</td><td>236</td><td>178</td><td>0.8</td></tr>\n",
       "\t<tr><td>⋮</td><td>⋮</td><td>⋮</td><td>⋮</td><td>⋮</td><td>⋮</td></tr>\n",
       "\t<tr><td>TRUE</td><td>54</td><td>127</td><td>333</td><td>154</td><td>0</td></tr>\n",
       "\t<tr><td>TRUE</td><td>55</td><td>122</td><td>223</td><td>100</td><td>0</td></tr>\n",
       "\t<tr><td>TRUE</td><td>62</td><td>120</td><td>254</td><td> 93</td><td>0</td></tr>\n",
       "</tbody>\n",
       "</table>\n"
      ],
      "text/latex": [
       "A data.frame: 622 × 6\n",
       "\\begin{tabular}{llllll}\n",
       " num & age & trestbps & chol & thalach & oldpeak\\\\\n",
       " <fct> & <dbl> & <dbl> & <dbl> & <dbl> & <dbl>\\\\\n",
       "\\hline\n",
       "\t FALSE & 37 & 130 & 250 & 187 & 3.5\\\\\n",
       "\t FALSE & 41 & 130 & 204 & 172 & 1.4\\\\\n",
       "\t FALSE & 56 & 120 & 236 & 178 & 0.8\\\\\n",
       "\t ⋮ & ⋮ & ⋮ & ⋮ & ⋮ & ⋮\\\\\n",
       "\t TRUE & 54 & 127 & 333 & 154 & 0\\\\\n",
       "\t TRUE & 55 & 122 & 223 & 100 & 0\\\\\n",
       "\t TRUE & 62 & 120 & 254 &  93 & 0\\\\\n",
       "\\end{tabular}\n"
      ],
      "text/markdown": [
       "\n",
       "A data.frame: 622 × 6\n",
       "\n",
       "| num &lt;fct&gt; | age &lt;dbl&gt; | trestbps &lt;dbl&gt; | chol &lt;dbl&gt; | thalach &lt;dbl&gt; | oldpeak &lt;dbl&gt; |\n",
       "|---|---|---|---|---|---|\n",
       "| FALSE | 37 | 130 | 250 | 187 | 3.5 |\n",
       "| FALSE | 41 | 130 | 204 | 172 | 1.4 |\n",
       "| FALSE | 56 | 120 | 236 | 178 | 0.8 |\n",
       "| ⋮ | ⋮ | ⋮ | ⋮ | ⋮ | ⋮ |\n",
       "| TRUE | 54 | 127 | 333 | 154 | 0 |\n",
       "| TRUE | 55 | 122 | 223 | 100 | 0 |\n",
       "| TRUE | 62 | 120 | 254 |  93 | 0 |\n",
       "\n"
      ],
      "text/plain": [
       "    num   age trestbps chol thalach oldpeak\n",
       "1   FALSE 37  130      250  187     3.5    \n",
       "2   FALSE 41  130      204  172     1.4    \n",
       "3   FALSE 56  120      236  178     0.8    \n",
       "⋮   ⋮     ⋮   ⋮        ⋮    ⋮       ⋮      \n",
       "620 TRUE  54  127      333  154     0      \n",
       "621 TRUE  55  122      223  100     0      \n",
       "622 TRUE  62  120      254   93     0      "
      ]
     },
     "metadata": {},
     "output_type": "display_data"
    },
    {
     "data": {
      "text/html": [
       "<table class=\"dataframe\">\n",
       "<caption>A tibble: 2 × 2</caption>\n",
       "<thead>\n",
       "\t<tr><th scope=col>num</th><th scope=col>n</th></tr>\n",
       "\t<tr><th scope=col>&lt;fct&gt;</th><th scope=col>&lt;int&gt;</th></tr>\n",
       "</thead>\n",
       "<tbody>\n",
       "\t<tr><td>FALSE</td><td>280</td></tr>\n",
       "\t<tr><td>TRUE </td><td>342</td></tr>\n",
       "</tbody>\n",
       "</table>\n"
      ],
      "text/latex": [
       "A tibble: 2 × 2\n",
       "\\begin{tabular}{ll}\n",
       " num & n\\\\\n",
       " <fct> & <int>\\\\\n",
       "\\hline\n",
       "\t FALSE & 280\\\\\n",
       "\t TRUE  & 342\\\\\n",
       "\\end{tabular}\n"
      ],
      "text/markdown": [
       "\n",
       "A tibble: 2 × 2\n",
       "\n",
       "| num &lt;fct&gt; | n &lt;int&gt; |\n",
       "|---|---|\n",
       "| FALSE | 280 |\n",
       "| TRUE  | 342 |\n",
       "\n"
      ],
      "text/plain": [
       "  num   n  \n",
       "1 FALSE 280\n",
       "2 TRUE  342"
      ]
     },
     "metadata": {},
     "output_type": "display_data"
    },
    {
     "data": {
      "text/html": [
       "<table class=\"dataframe\">\n",
       "<caption>A tibble: 2 × 6</caption>\n",
       "<thead>\n",
       "\t<tr><th scope=col>num</th><th scope=col>age</th><th scope=col>trestbps</th><th scope=col>chol</th><th scope=col>thalach</th><th scope=col>oldpeak</th></tr>\n",
       "\t<tr><th scope=col>&lt;fct&gt;</th><th scope=col>&lt;dbl&gt;</th><th scope=col>&lt;dbl&gt;</th><th scope=col>&lt;dbl&gt;</th><th scope=col>&lt;dbl&gt;</th><th scope=col>&lt;dbl&gt;</th></tr>\n",
       "</thead>\n",
       "<tbody>\n",
       "\t<tr><td>FALSE</td><td>49.78929</td><td>130.7179</td><td>230.0321</td><td>150.1679</td><td>0.4217857</td></tr>\n",
       "\t<tr><td>TRUE </td><td>56.02047</td><td>134.2135</td><td>174.3977</td><td>127.5556</td><td>1.2464912</td></tr>\n",
       "</tbody>\n",
       "</table>\n"
      ],
      "text/latex": [
       "A tibble: 2 × 6\n",
       "\\begin{tabular}{llllll}\n",
       " num & age & trestbps & chol & thalach & oldpeak\\\\\n",
       " <fct> & <dbl> & <dbl> & <dbl> & <dbl> & <dbl>\\\\\n",
       "\\hline\n",
       "\t FALSE & 49.78929 & 130.7179 & 230.0321 & 150.1679 & 0.4217857\\\\\n",
       "\t TRUE  & 56.02047 & 134.2135 & 174.3977 & 127.5556 & 1.2464912\\\\\n",
       "\\end{tabular}\n"
      ],
      "text/markdown": [
       "\n",
       "A tibble: 2 × 6\n",
       "\n",
       "| num &lt;fct&gt; | age &lt;dbl&gt; | trestbps &lt;dbl&gt; | chol &lt;dbl&gt; | thalach &lt;dbl&gt; | oldpeak &lt;dbl&gt; |\n",
       "|---|---|---|---|---|---|\n",
       "| FALSE | 49.78929 | 130.7179 | 230.0321 | 150.1679 | 0.4217857 |\n",
       "| TRUE  | 56.02047 | 134.2135 | 174.3977 | 127.5556 | 1.2464912 |\n",
       "\n"
      ],
      "text/plain": [
       "  num   age      trestbps chol     thalach  oldpeak  \n",
       "1 FALSE 49.78929 130.7179 230.0321 150.1679 0.4217857\n",
       "2 TRUE  56.02047 134.2135 174.3977 127.5556 1.2464912"
      ]
     },
     "metadata": {},
     "output_type": "display_data"
    }
   ],
   "source": [
    "# Number of observations with missing data\n",
    "num_na <- heart_training |>\n",
    "    filter(is.na(age)|is.na(trestbps)|is.na(chol)|is.na(thalach)|is.na(oldpeak))|>\n",
    "    nrow()\n",
    "num_na\n",
    "\n",
    "heart_training_clean <- heart_training |>\n",
    "    filter(!is.na(age)&!is.na(trestbps)&!is.na(chol)&!is.na(thalach)&!is.na(oldpeak))|>\n",
    "    filter(trestbps!=0)\n",
    "    \n",
    "heart_training_clean\n",
    "\n",
    "# Distribution of target class\n",
    "class_dist <- heart_training_clean |>\n",
    "    group_by(num) |>\n",
    "    summarize(n=n())\n",
    "class_dist\n",
    "\n",
    "# Average values table of each predictor\n",
    "var_means <- heart_training_clean |>\n",
    "    group_by(num)|>\n",
    "    summarize(across(age:oldpeak, mean, na.rm=TRUE))\n",
    "var_means"
   ]
  },
  {
   "cell_type": "markdown",
   "id": "f7e900ba-ea41-4129-b889-469e203e88d9",
   "metadata": {},
   "source": [
    "To decide which predictor variables to use, we graph each of their distributions by class to see if there is a difference between patients that are and are not diagnosed with heart disease."
   ]
  },
  {
   "cell_type": "code",
   "execution_count": 84,
   "id": "99d3ef85-d90e-479e-bed1-34e60e4f9ea6",
   "metadata": {},
   "outputs": [
    {
     "name": "stderr",
     "output_type": "stream",
     "text": [
      "Using num as id variables\n",
      "\n",
      "Using num as id variables\n",
      "\n"
     ]
    },
    {
     "data": {
      "image/png": "[encoded data removed]",
      "text/plain": [
       "plot without title"
      ]
     },
     "metadata": {
      "image/png": {
       "height": 240,
       "width": 480
      }
     },
     "output_type": "display_data"
    },
    {
     "name": "stderr",
     "output_type": "stream",
     "text": [
      "Using num as id variables\n",
      "\n"
     ]
    },
    {
     "data": {
      "image/png": "[encoded data removed]",
      "text/plain": [
       "plot without title"
      ]
     },
     "metadata": {
      "image/png": {
       "height": 240,
       "width": 480
      }
     },
     "output_type": "display_data"
    },
    {
     "name": "stderr",
     "output_type": "stream",
     "text": [
      "Using num as id variables\n",
      "\n"
     ]
    },
    {
     "data": {
      "image/png": "[encoded data removed]",
      "text/plain": [
       "plot without title"
      ]
     },
     "metadata": {
      "image/png": {
       "height": 240,
       "width": 480
      }
     },
     "output_type": "display_data"
    },
    {
     "name": "stderr",
     "output_type": "stream",
     "text": [
      "Using num as id variables\n",
      "\n"
     ]
    },
    {
     "data": {
      "image/png": "[encoded data removed]",
      "text/plain": [
       "plot without title"
      ]
     },
     "metadata": {
      "image/png": {
       "height": 240,
       "width": 480
      }
     },
     "output_type": "display_data"
    },
    {
     "data": {
      "image/png": "[encoded data removed]",
      "text/plain": [
       "plot without title"
      ]
     },
     "metadata": {
      "image/png": {
       "height": 240,
       "width": 480
      }
     },
     "output_type": "display_data"
    }
   ],
   "source": [
    "options(repr.plot.width = 8, repr.plot.height = 4)\n",
    "# Distributions of predictor variables\n",
    "\n",
    "age_dist <- heart_training_clean |>\n",
    "    melt()|>\n",
    "    filter(variable==\"age\")|>\n",
    "    ggplot(aes(x=value, fill=num))+\n",
    "        geom_boxplot()+\n",
    "        theme(text=element_text(size=15))+\n",
    "        labs(x=\"Age\", fill=\"Has heart disease?\")+\n",
    "        scale_fill_manual(values=c(\"#00A9FF\",\"#F8766D\"))+\n",
    "        ggtitle(\"Distribution of age\")\n",
    "age_dist\n",
    "\n",
    "trest_dist <- heart_training_clean |>\n",
    "    melt()|>\n",
    "    filter(variable==\"trestbps\")|>\n",
    "    ggplot(aes(x=value, fill=num))+\n",
    "        geom_boxplot()+\n",
    "        theme(text=element_text(size=15))+\n",
    "        labs(x=\"Resting blood pressure (mm Hg)\", fill=\"Has heart disease?\")+\n",
    "        scale_fill_manual(values=c(\"#00A9FF\",\"#F8766D\"))+\n",
    "        ggtitle(\"Distribution of blood pressure\")\n",
    "trest_dist\n",
    "\n",
    "chol_dist <- heart_training_clean |>\n",
    "    melt()|>\n",
    "    filter(variable==\"chol\")|>\n",
    "    ggplot(aes(x=value, fill=num))+\n",
    "        geom_boxplot()+\n",
    "        theme(text=element_text(size=15))+\n",
    "        labs(x=\"Cholesterol levels (mg/dL)\", fill=\"Has heart disease?\")+\n",
    "        scale_fill_manual(values=c(\"#00A9FF\",\"#F8766D\"))+\n",
    "        ggtitle(\"Distribution of cholesterol\")\n",
    "chol_dist\n",
    "\n",
    "thalach_dist <- heart_training_clean |>\n",
    "    melt()|>\n",
    "    filter(variable==\"thalach\")|>\n",
    "    ggplot(aes(x=value, fill=num))+\n",
    "        geom_boxplot()+\n",
    "        theme(text=element_text(size=15))+\n",
    "        labs(x=\"Max heart rate (BPM)\", fill=\"Has heart disease?\")+\n",
    "        scale_fill_manual(values=c(\"#00A9FF\",\"#F8766D\"))+\n",
    "        ggtitle(\"Distribution of max heart rate\")\n",
    "thalach_dist\n",
    "\n",
    "oldpeak_dist <- heart_training_clean |>\n",
    "    melt()|>\n",
    "    filter(variable==\"trestbps\")|>\n",
    "    ggplot(aes(x=value, fill=num))+\n",
    "        geom_boxplot()+\n",
    "        theme(text=element_text(size=15))+\n",
    "        labs(x=\"ST depression from exercise\", fill=\"Has heart disease?\")+\n",
    "        scale_fill_manual(values=c(\"#00A9FF\",\"#F8766D\"))+\n",
    "        ggtitle(\"Distribution of ST depression\")\n",
    "oldpeak_dist"
   ]
  },
  {
   "cell_type": "markdown",
   "id": "fbefbd38-5d37-43ee-9847-27417a6d311f",
   "metadata": {},
   "source": [
    "From the average tables and boxplots, we conclude that patients with heart disease tend to be older, have lower maximum heart rates, and have higher ST depression. On the other hand, cholesterol and resting blood pressure do not seem particularly good predictors for heart disease since the distributions between patients diagnosed and not diagnosed with heart disease are about the same, so we remove them."
   ]
  },
  {
   "cell_type": "code",
   "execution_count": 85,
   "id": "3827c5c6-63d2-4dba-be16-f67cb3fe042d",
   "metadata": {},
   "outputs": [
    {
     "data": {
      "text/html": [
       "<table class=\"dataframe\">\n",
       "<caption>A data.frame: 622 × 4</caption>\n",
       "<thead>\n",
       "\t<tr><th scope=col>num</th><th scope=col>age</th><th scope=col>thalach</th><th scope=col>oldpeak</th></tr>\n",
       "\t<tr><th scope=col>&lt;fct&gt;</th><th scope=col>&lt;dbl&gt;</th><th scope=col>&lt;dbl&gt;</th><th scope=col>&lt;dbl&gt;</th></tr>\n",
       "</thead>\n",
       "<tbody>\n",
       "\t<tr><td>FALSE</td><td>37</td><td>187</td><td>3.5</td></tr>\n",
       "\t<tr><td>FALSE</td><td>41</td><td>172</td><td>1.4</td></tr>\n",
       "\t<tr><td>FALSE</td><td>56</td><td>178</td><td>0.8</td></tr>\n",
       "\t<tr><td>⋮</td><td>⋮</td><td>⋮</td><td>⋮</td></tr>\n",
       "\t<tr><td>TRUE</td><td>54</td><td>154</td><td>0</td></tr>\n",
       "\t<tr><td>TRUE</td><td>55</td><td>100</td><td>0</td></tr>\n",
       "\t<tr><td>TRUE</td><td>62</td><td> 93</td><td>0</td></tr>\n",
       "</tbody>\n",
       "</table>\n"
      ],
      "text/latex": [
       "A data.frame: 622 × 4\n",
       "\\begin{tabular}{llll}\n",
       " num & age & thalach & oldpeak\\\\\n",
       " <fct> & <dbl> & <dbl> & <dbl>\\\\\n",
       "\\hline\n",
       "\t FALSE & 37 & 187 & 3.5\\\\\n",
       "\t FALSE & 41 & 172 & 1.4\\\\\n",
       "\t FALSE & 56 & 178 & 0.8\\\\\n",
       "\t ⋮ & ⋮ & ⋮ & ⋮\\\\\n",
       "\t TRUE & 54 & 154 & 0\\\\\n",
       "\t TRUE & 55 & 100 & 0\\\\\n",
       "\t TRUE & 62 &  93 & 0\\\\\n",
       "\\end{tabular}\n"
      ],
      "text/markdown": [
       "\n",
       "A data.frame: 622 × 4\n",
       "\n",
       "| num &lt;fct&gt; | age &lt;dbl&gt; | thalach &lt;dbl&gt; | oldpeak &lt;dbl&gt; |\n",
       "|---|---|---|---|\n",
       "| FALSE | 37 | 187 | 3.5 |\n",
       "| FALSE | 41 | 172 | 1.4 |\n",
       "| FALSE | 56 | 178 | 0.8 |\n",
       "| ⋮ | ⋮ | ⋮ | ⋮ |\n",
       "| TRUE | 54 | 154 | 0 |\n",
       "| TRUE | 55 | 100 | 0 |\n",
       "| TRUE | 62 |  93 | 0 |\n",
       "\n"
      ],
      "text/plain": [
       "    num   age thalach oldpeak\n",
       "1   FALSE 37  187     3.5    \n",
       "2   FALSE 41  172     1.4    \n",
       "3   FALSE 56  178     0.8    \n",
       "⋮   ⋮     ⋮   ⋮       ⋮      \n",
       "620 TRUE  54  154     0      \n",
       "621 TRUE  55  100     0      \n",
       "622 TRUE  62   93     0      "
      ]
     },
     "metadata": {},
     "output_type": "display_data"
    }
   ],
   "source": [
    "heart_training_selected <- heart_training_clean |>\n",
    "    select(-trestbps, -chol)\n",
    "heart_training_selected"
   ]
  },
  {
   "cell_type": "markdown",
   "id": "b96d1f5e-a4d3-4f6d-bb62-06440043dc7d",
   "metadata": {},
   "source": [
    "## Methods "
   ]
  },
  {
   "cell_type": "markdown",
   "id": "bfff7fc5-b48e-4028-9ab8-562e9f220c9d",
   "metadata": {},
   "source": [
    "We will answer our question by creating a classification model using the K-nearest neighbour with predictors of age, maximum heart rate (thalach) and ST depression (oldpeak). Through visualizations created from our preliminary analysis, we found that these three variables had the most correlation with the presence of heart disease. We will then compare predictions with the testing dataset to measure the model's accuracy. Through a decision boundary plot to visualize the KNN model, we plan to determine if heart disease models are reliable for medical use."
   ]
  },
  {
   "cell_type": "markdown",
   "id": "89aac329-7243-4e82-a8c2-c5fa2b7ab3e8",
   "metadata": {},
   "source": [
    "## Expected Outcomes and Significance "
   ]
  },
  {
   "cell_type": "markdown",
   "id": "0f07bd08-2834-442f-906f-674264b59647",
   "metadata": {},
   "source": [
    "Overall, we expect to predict heart disease from factors such as the patient's age, maximum heart rate, and ST depression induced by exercise. \n",
    "\n",
    "Since cardiovascular disease is one of the leading causes of mortality worldwide, it is challenging to identify heart disease due to many contributory risk factors. These predictive findings can determine patterns and relationships associated with heart disease, leading to improvements in medical services. In the future, it may be worthwhile for patients to self-diagnose or speculate about heart disease years before any symptoms arise—ultimately saving lives thanks to early intervention.\n",
    "\n",
    "This inquiry project can lead to further questions, such as, \"How can we further improve the accuracy of our model?\" and \"What other factors can we use to predict heart disease?\""
   ]
  },
  {
   "cell_type": "markdown",
   "id": "c1fb0c38-5ccc-433c-9337-4892cfeec741",
   "metadata": {},
   "source": [
    "## Sources "
   ]
  },
  {
   "cell_type": "markdown",
   "id": "72984e9f-bcb1-4a0f-9167-c4e8ac11e756",
   "metadata": {},
   "source": [
    "Cherngs. (2020, March 29). *Heart disease Cleveland UCI.* Kaggle. Retrieved from https://www.kaggle.com/datasets/cherngs/heart-disease-cleveland-uci \n",
    "\n",
    "Deshmukh, H. (2020, June 18). *Heart disease UCI-Diagnosis &amp; Prediction - Towards Data Science.* Towards Data Science. Retrieved from https://towardsdatascience.com/heart-disease-uci-diagnosis-prediction-b1943ee835a7 \n",
    "\n",
    "Detrano, R., Janosi, A., Pfistere, M., & Steinbrunn, W. (1988). *Heart Disease Data Set.* UCI Machine Learning Repository. Retrieved from https://archive.ics.uci.edu/ml/datasets/Heart+Disease\n",
    "\n",
    "World Health Organization. (2021, June 11). *Cardiovascular diseases (cvds).* World Health Organization. Retrieved from https://www.who.int/news-room/fact-sheets/detail/cardiovascular-diseases-(cvds) "
   ]
  }
 ],
 "metadata": {
  "kernelspec": {
   "display_name": "R",
   "language": "R",
   "name": "ir"
  },
  "language_info": {
   "codemirror_mode": "r",
   "file_extension": ".r",
   "mimetype": "text/x-r-source",
   "name": "R",
   "pygments_lexer": "r",
   "version": "4.1.3"
  }
 },
 "nbformat": 4,
 "nbformat_minor": 5
}
